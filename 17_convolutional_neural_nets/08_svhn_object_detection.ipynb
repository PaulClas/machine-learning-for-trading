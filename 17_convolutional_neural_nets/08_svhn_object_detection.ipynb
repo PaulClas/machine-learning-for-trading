{
 "cells": [
  {
   "cell_type": "markdown",
   "metadata": {},
   "source": [
    "# Object Detection with Street View House Numbers"
   ]
  },
  {
   "cell_type": "code",
   "execution_count": 25,
   "metadata": {},
   "outputs": [],
   "source": [
    "import pandas as pd\n",
    "import numpy as np\n",
    "from keras.utils import to_categorical\n",
    "from sklearn.metrics import confusion_matrix\n",
    "from keras.models import Sequential, Model\n",
    "from keras.callbacks import ModelCheckpoint\n",
    "from keras.layers import Conv2D, MaxPooling2D, Flatten, Dense, Input, Dropout, BatchNormalization, Activation"
   ]
  },
  {
   "cell_type": "markdown",
   "metadata": {},
   "source": [
    "## Best Architecture"
   ]
  },
  {
   "cell_type": "markdown",
   "metadata": {},
   "source": [
    "[Multi-digit Number Recognition from Street View Imagery using Deep Convolutional Neural Networks](https://arxiv.org/abs/1312.6082), Goodfellow, et al, 2014"
   ]
  },
  {
   "cell_type": "markdown",
   "metadata": {},
   "source": [
    "- eight convolutional hidden layers, \n",
    "- one locally connected hidden layer\n",
    "- two densely connected hidden layers. \n",
    "- the first hidden layer contains maxout units with three filters per unit\n",
    "- the others contain rectifier units \n",
    "- the number of units is [48, 64, 128, 160] for the first four layers \n",
    "- 192 for all other locally connected layers\n",
    "- the fully connected layers contain 3,072 units each. \n",
    "- Each convolutional layer includes max pooling and subtractive normalization\n",
    "- The max pooling window size is 2 × 2. \n",
    "- The stride alternates between 2 and 1 at each layer, so that half of the layers don’t reduce the spatial size of the representation\n",
    "- All convolutions use zero padding on the input to preserve representation size. \n",
    "- The subtractive normalization operates on 3x3 windows and preserves representation size. \n",
    "- All convolution kernels were of size 5 × 5. \n",
    "- We trained with dropout applied to all hidden layers but not the input."
   ]
  },
  {
   "cell_type": "code",
   "execution_count": 29,
   "metadata": {},
   "outputs": [],
   "source": [
    "def svhn_layer(model, filters, strides, n, input_shape=None):\n",
    "    if input_shape is not None:\n",
    "        model.add(Conv2D(filters, kernel_size=5, padding='same', name='CONV{}'.format(n), input_shape=input_shape))\n",
    "    else:\n",
    "        model.add(Conv2D(filters, kernel_size=5, padding='same', activation='relu', name='CONV{}'.format(n)))\n",
    "    model.add(BatchNormalization(name='NORM{}'.format(n)))\n",
    "    model.add(MaxPooling2D(pool_size=2, strides=strides, name='POOL{}'.format(n)))\n",
    "    model.add(Dropout(0.2, name='DROP{}'.format(n)))\n",
    "    return model"
   ]
  },
  {
   "cell_type": "code",
   "execution_count": 30,
   "metadata": {
    "scrolled": false
   },
   "outputs": [],
   "source": [
    "model = Sequential()\n",
    "\n",
    "svhn_layer(model, 48, 1, n=1, input_shape=(32,32,1))\n",
    "\n",
    "for i, kernel in enumerate([48, 64, 128, 160] + 3 * [192], 2):\n",
    "    svhn_layer(model, kernel, strides=2 if i % 2 == 0 else 1, n=i)\n",
    "\n",
    "model.add(Flatten())\n",
    "model.add(Dense(3072, name='FC1'))\n",
    "model.add(Dense(3072, name='FC2'))\n",
    "y = model.output\n",
    "\n",
    "n_digits = (Dense(units=6, activation='softmax'))(y)\n",
    "digit1 = (Dense(units=10, activation='softmax'))(y)\n",
    "digit2 = (Dense(units=11, activation='softmax'))(y)\n",
    "digit3 = (Dense(units=11, activation='softmax'))(y)\n",
    "digit4 = (Dense(units=11, activation='softmax'))(y)\n",
    "digit5 = (Dense(units=11, activation='softmax'))(y)\n",
    "\n",
    "svhn_model = Model(inputs=model.input, outputs=[n_digits, digit1, digit2, digit3, digit4, digit5])"
   ]
  },
  {
   "cell_type": "code",
   "execution_count": 31,
   "metadata": {},
   "outputs": [
    {
     "name": "stdout",
     "output_type": "stream",
     "text": [
      "__________________________________________________________________________________________________\n",
      "Layer (type)                    Output Shape         Param #     Connected to                     \n",
      "==================================================================================================\n",
      "CONV1_input (InputLayer)        (None, 32, 32, 1)    0                                            \n",
      "__________________________________________________________________________________________________\n",
      "CONV1 (Conv2D)                  (None, 32, 32, 48)   1248        CONV1_input[0][0]                \n",
      "__________________________________________________________________________________________________\n",
      "NORM1 (BatchNormalization)      (None, 32, 32, 48)   192         CONV1[0][0]                      \n",
      "__________________________________________________________________________________________________\n",
      "POOL1 (MaxPooling2D)            (None, 31, 31, 48)   0           NORM1[0][0]                      \n",
      "__________________________________________________________________________________________________\n",
      "DROP1 (Dropout)                 (None, 31, 31, 48)   0           POOL1[0][0]                      \n",
      "__________________________________________________________________________________________________\n",
      "CONV2 (Conv2D)                  (None, 31, 31, 48)   57648       DROP1[0][0]                      \n",
      "__________________________________________________________________________________________________\n",
      "NORM2 (BatchNormalization)      (None, 31, 31, 48)   192         CONV2[0][0]                      \n",
      "__________________________________________________________________________________________________\n",
      "POOL2 (MaxPooling2D)            (None, 15, 15, 48)   0           NORM2[0][0]                      \n",
      "__________________________________________________________________________________________________\n",
      "DROP2 (Dropout)                 (None, 15, 15, 48)   0           POOL2[0][0]                      \n",
      "__________________________________________________________________________________________________\n",
      "CONV3 (Conv2D)                  (None, 15, 15, 64)   76864       DROP2[0][0]                      \n",
      "__________________________________________________________________________________________________\n",
      "NORM3 (BatchNormalization)      (None, 15, 15, 64)   256         CONV3[0][0]                      \n",
      "__________________________________________________________________________________________________\n",
      "POOL3 (MaxPooling2D)            (None, 14, 14, 64)   0           NORM3[0][0]                      \n",
      "__________________________________________________________________________________________________\n",
      "DROP3 (Dropout)                 (None, 14, 14, 64)   0           POOL3[0][0]                      \n",
      "__________________________________________________________________________________________________\n",
      "CONV4 (Conv2D)                  (None, 14, 14, 128)  204928      DROP3[0][0]                      \n",
      "__________________________________________________________________________________________________\n",
      "NORM4 (BatchNormalization)      (None, 14, 14, 128)  512         CONV4[0][0]                      \n",
      "__________________________________________________________________________________________________\n",
      "POOL4 (MaxPooling2D)            (None, 7, 7, 128)    0           NORM4[0][0]                      \n",
      "__________________________________________________________________________________________________\n",
      "DROP4 (Dropout)                 (None, 7, 7, 128)    0           POOL4[0][0]                      \n",
      "__________________________________________________________________________________________________\n",
      "CONV5 (Conv2D)                  (None, 7, 7, 160)    512160      DROP4[0][0]                      \n",
      "__________________________________________________________________________________________________\n",
      "NORM5 (BatchNormalization)      (None, 7, 7, 160)    640         CONV5[0][0]                      \n",
      "__________________________________________________________________________________________________\n",
      "POOL5 (MaxPooling2D)            (None, 6, 6, 160)    0           NORM5[0][0]                      \n",
      "__________________________________________________________________________________________________\n",
      "DROP5 (Dropout)                 (None, 6, 6, 160)    0           POOL5[0][0]                      \n",
      "__________________________________________________________________________________________________\n",
      "CONV6 (Conv2D)                  (None, 6, 6, 192)    768192      DROP5[0][0]                      \n",
      "__________________________________________________________________________________________________\n",
      "NORM6 (BatchNormalization)      (None, 6, 6, 192)    768         CONV6[0][0]                      \n",
      "__________________________________________________________________________________________________\n",
      "POOL6 (MaxPooling2D)            (None, 3, 3, 192)    0           NORM6[0][0]                      \n",
      "__________________________________________________________________________________________________\n",
      "DROP6 (Dropout)                 (None, 3, 3, 192)    0           POOL6[0][0]                      \n",
      "__________________________________________________________________________________________________\n",
      "CONV7 (Conv2D)                  (None, 3, 3, 192)    921792      DROP6[0][0]                      \n",
      "__________________________________________________________________________________________________\n",
      "NORM7 (BatchNormalization)      (None, 3, 3, 192)    768         CONV7[0][0]                      \n",
      "__________________________________________________________________________________________________\n",
      "POOL7 (MaxPooling2D)            (None, 2, 2, 192)    0           NORM7[0][0]                      \n",
      "__________________________________________________________________________________________________\n",
      "DROP7 (Dropout)                 (None, 2, 2, 192)    0           POOL7[0][0]                      \n",
      "__________________________________________________________________________________________________\n",
      "CONV8 (Conv2D)                  (None, 2, 2, 192)    921792      DROP7[0][0]                      \n",
      "__________________________________________________________________________________________________\n",
      "NORM8 (BatchNormalization)      (None, 2, 2, 192)    768         CONV8[0][0]                      \n",
      "__________________________________________________________________________________________________\n",
      "POOL8 (MaxPooling2D)            (None, 1, 1, 192)    0           NORM8[0][0]                      \n",
      "__________________________________________________________________________________________________\n",
      "DROP8 (Dropout)                 (None, 1, 1, 192)    0           POOL8[0][0]                      \n",
      "__________________________________________________________________________________________________\n",
      "flatten_2 (Flatten)             (None, 192)          0           DROP8[0][0]                      \n",
      "__________________________________________________________________________________________________\n",
      "FC1 (Dense)                     (None, 3072)         592896      flatten_2[0][0]                  \n",
      "__________________________________________________________________________________________________\n",
      "FC2 (Dense)                     (None, 3072)         9440256     FC1[0][0]                        \n",
      "__________________________________________________________________________________________________\n",
      "dense_7 (Dense)                 (None, 6)            18438       FC2[0][0]                        \n",
      "__________________________________________________________________________________________________\n",
      "dense_8 (Dense)                 (None, 10)           30730       FC2[0][0]                        \n",
      "__________________________________________________________________________________________________\n",
      "dense_9 (Dense)                 (None, 11)           33803       FC2[0][0]                        \n",
      "__________________________________________________________________________________________________\n",
      "dense_10 (Dense)                (None, 11)           33803       FC2[0][0]                        \n",
      "__________________________________________________________________________________________________\n",
      "dense_11 (Dense)                (None, 11)           33803       FC2[0][0]                        \n",
      "__________________________________________________________________________________________________\n",
      "dense_12 (Dense)                (None, 11)           33803       FC2[0][0]                        \n",
      "==================================================================================================\n",
      "Total params: 13,686,252\n",
      "Trainable params: 13,684,204\n",
      "Non-trainable params: 2,048\n",
      "__________________________________________________________________________________________________\n"
     ]
    }
   ],
   "source": [
    "svhn_model.summary()"
   ]
  },
  {
   "cell_type": "markdown",
   "metadata": {},
   "source": [
    "### Get Data "
   ]
  },
  {
   "cell_type": "code",
   "execution_count": 32,
   "metadata": {},
   "outputs": [],
   "source": [
    "svhn_model.compile(optimizer='adam',\n",
    "                   loss='categorical_crossentropy',\n",
    "                   metrics=[\"accuracy\"])"
   ]
  },
  {
   "cell_type": "code",
   "execution_count": 33,
   "metadata": {},
   "outputs": [],
   "source": [
    "with pd.HDFStore('images/svhn/data.h5') as store:\n",
    "    X_train = store['train/data'].values.reshape(-1, 32, 32, 1)\n",
    "    y_train = store['train/labels']\n",
    "    X_test = store['test/data'].values.reshape(-1, 32, 32, 1)\n",
    "    y_test = store['test/labels']   "
   ]
  },
  {
   "cell_type": "code",
   "execution_count": 34,
   "metadata": {},
   "outputs": [],
   "source": [
    "train_digits = [to_categorical(d) for d in y_train.values.T]\n",
    "test_digits = [to_categorical(d) for d in y_test.values.T]"
   ]
  },
  {
   "cell_type": "code",
   "execution_count": 35,
   "metadata": {},
   "outputs": [],
   "source": [
    "svhn_path = 'models/svhn.cnn.weights.best.hdf5'"
   ]
  },
  {
   "cell_type": "code",
   "execution_count": 36,
   "metadata": {},
   "outputs": [],
   "source": [
    "checkpointer = ModelCheckpoint(filepath=svhn_path, \n",
    "                               verbose=1, \n",
    "                               save_best_only=True)"
   ]
  },
  {
   "cell_type": "code",
   "execution_count": null,
   "metadata": {},
   "outputs": [
    {
     "name": "stderr",
     "output_type": "stream",
     "text": [
      "/home/stefan/.pyenv/versions/miniconda3-latest/envs/ml4t/lib/python3.6/site-packages/ipykernel_launcher.py:7: UserWarning: The `nb_epoch` argument in `fit` has been renamed `epochs`.\n",
      "  import sys\n"
     ]
    },
    {
     "name": "stdout",
     "output_type": "stream",
     "text": [
      "Train on 33401 samples, validate on 13068 samples\n",
      "Epoch 1/25\n",
      "33401/33401 [==============================] - 403s 12ms/step - loss: 10.9310 - dense_7_loss: 1.7986 - dense_8_loss: 3.3142 - dense_9_loss: 3.5172 - dense_10_loss: 1.6761 - dense_11_loss: 0.4806 - dense_12_loss: 0.1442 - dense_7_acc: 0.5997 - dense_8_acc: 0.2256 - dense_9_acc: 0.1742 - dense_10_acc: 0.6625 - dense_11_acc: 0.9396 - dense_12_acc: 0.9854 - val_loss: 6.3165 - val_dense_7_loss: 0.7193 - val_dense_8_loss: 2.1885 - val_dense_9_loss: 2.6203 - val_dense_10_loss: 0.6834 - val_dense_11_loss: 0.1026 - val_dense_12_loss: 0.0025 - val_dense_7_acc: 0.7193 - val_dense_8_acc: 0.2186 - val_dense_9_acc: 0.1615 - val_dense_10_acc: 0.8294 - val_dense_11_acc: 0.9886 - val_dense_12_acc: 0.9998\n",
      "Epoch 2/25\n",
      "33401/33401 [==============================] - 374s 11ms/step - loss: 9.1808 - dense_7_loss: 1.4299 - dense_8_loss: 2.7791 - dense_9_loss: 3.0490 - dense_10_loss: 1.4787 - dense_11_loss: 0.4023 - dense_12_loss: 0.0418 - dense_7_acc: 0.6206 - dense_8_acc: 0.2376 - dense_9_acc: 0.1970 - dense_10_acc: 0.6800 - dense_11_acc: 0.9461 - dense_12_acc: 0.9946 - val_loss: 7.5232 - val_dense_7_loss: 0.8236 - val_dense_8_loss: 2.8487 - val_dense_9_loss: 2.7749 - val_dense_10_loss: 0.9010 - val_dense_11_loss: 0.1727 - val_dense_12_loss: 0.0025 - val_dense_7_acc: 0.7321 - val_dense_8_acc: 0.1846 - val_dense_9_acc: 0.2316 - val_dense_10_acc: 0.8294 - val_dense_11_acc: 0.9887 - val_dense_12_acc: 0.9998\n",
      "Epoch 3/25\n",
      "33401/33401 [==============================] - 390s 12ms/step - loss: 8.8203 - dense_7_loss: 1.3169 - dense_8_loss: 2.6735 - dense_9_loss: 2.8681 - dense_10_loss: 1.4942 - dense_11_loss: 0.4254 - dense_12_loss: 0.0422 - dense_7_acc: 0.6600 - dense_8_acc: 0.2480 - dense_9_acc: 0.2177 - dense_10_acc: 0.6802 - dense_11_acc: 0.9463 - dense_12_acc: 0.9960 - val_loss: 6.7777 - val_dense_7_loss: 1.1497 - val_dense_8_loss: 2.2831 - val_dense_9_loss: 2.5324 - val_dense_10_loss: 0.7251 - val_dense_11_loss: 0.0849 - val_dense_12_loss: 0.0024 - val_dense_7_acc: 0.5593 - val_dense_8_acc: 0.2627 - val_dense_9_acc: 0.2390 - val_dense_10_acc: 0.8277 - val_dense_11_acc: 0.9878 - val_dense_12_acc: 0.9998\n",
      "Epoch 4/25\n",
      "33401/33401 [==============================] - 385s 12ms/step - loss: 14.4231 - dense_7_loss: 2.0284 - dense_8_loss: 4.1171 - dense_9_loss: 4.4808 - dense_10_loss: 2.6333 - dense_11_loss: 0.7966 - dense_12_loss: 0.3670 - dense_7_acc: 0.6033 - dense_8_acc: 0.2122 - dense_9_acc: 0.1778 - dense_10_acc: 0.6423 - dense_11_acc: 0.9316 - dense_12_acc: 0.9729 - val_loss: 13.2923 - val_dense_7_loss: 2.7350 - val_dense_8_loss: 4.4252 - val_dense_9_loss: 5.0644 - val_dense_10_loss: 0.8655 - val_dense_11_loss: 0.1825 - val_dense_12_loss: 0.0197 - val_dense_7_acc: 0.6860 - val_dense_8_acc: 0.2029 - val_dense_9_acc: 0.1831 - val_dense_10_acc: 0.8229 - val_dense_11_acc: 0.9887 - val_dense_12_acc: 0.9985\n",
      "Epoch 5/25\n",
      "33401/33401 [==============================] - 434s 13ms/step - loss: 8.6625 - dense_7_loss: 1.1928 - dense_8_loss: 2.7595 - dense_9_loss: 2.6868 - dense_10_loss: 1.4416 - dense_11_loss: 0.4948 - dense_12_loss: 0.0870 - dense_7_acc: 0.6788 - dense_8_acc: 0.2379 - dense_9_acc: 0.2064 - dense_10_acc: 0.6770 - dense_11_acc: 0.9463 - dense_12_acc: 0.9928 - val_loss: 6.6534 - val_dense_7_loss: 0.6837 - val_dense_8_loss: 2.4741 - val_dense_9_loss: 2.4040 - val_dense_10_loss: 0.9068 - val_dense_11_loss: 0.1824 - val_dense_12_loss: 0.0025 - val_dense_7_acc: 0.7759 - val_dense_8_acc: 0.3173 - val_dense_9_acc: 0.1986 - val_dense_10_acc: 0.7985 - val_dense_11_acc: 0.9887 - val_dense_12_acc: 0.9998\n",
      "Epoch 6/25\n",
      " 4096/33401 [==>...........................] - ETA: 8:03 - loss: 7.6028 - dense_7_loss: 0.9176 - dense_8_loss: 2.5801 - dense_9_loss: 2.3857 - dense_10_loss: 1.1713 - dense_11_loss: 0.5436 - dense_12_loss: 0.0044 - dense_7_acc: 0.7244 - dense_8_acc: 0.2800 - dense_9_acc: 0.2139 - dense_10_acc: 0.6858 - dense_11_acc: 0.9497 - dense_12_acc: 0.9995"
     ]
    }
   ],
   "source": [
    "nb_epoch = 25\n",
    "svhn_model.fit(x=X_train,\n",
    "               y=train_digits,\n",
    "               batch_size=32,\n",
    "               nb_epoch=nb_epoch,\n",
    "               verbose=1,\n",
    "               validation_data=(X_test, test_digits))"
   ]
  },
  {
   "cell_type": "code",
   "execution_count": 10,
   "metadata": {},
   "outputs": [
    {
     "name": "stdout",
     "output_type": "stream",
     "text": [
      "13068/13068 [==============================] - 26s 2ms/step\n"
     ]
    }
   ],
   "source": [
    "n_digits, digit1, digit2, digit3, digit4, digit5 = svhn_model.predict(X_test, verbose=1)"
   ]
  },
  {
   "cell_type": "code",
   "execution_count": 15,
   "metadata": {},
   "outputs": [
    {
     "data": {
      "text/plain": [
       "0.7210743801652892"
      ]
     },
     "execution_count": 15,
     "metadata": {},
     "output_type": "execute_result"
    }
   ],
   "source": [
    "(y_test[0] == np.argmax(n_digits, axis=1)).sum()/len(n_digits)"
   ]
  },
  {
   "cell_type": "code",
   "execution_count": 21,
   "metadata": {},
   "outputs": [
    {
     "data": {
      "text/plain": [
       "array([[1082, 1394,    7,    0,    0],\n",
       "       [ 340, 7755,  261,    0,    0],\n",
       "       [  19, 1476,  586,    0,    0],\n",
       "       [   0,   78,   68,    0,    0],\n",
       "       [   0,    2,    0,    0,    0]])"
      ]
     },
     "execution_count": 21,
     "metadata": {},
     "output_type": "execute_result"
    }
   ],
   "source": [
    "confusion_matrix(y_true=y_test[0], y_pred=np.argmax(n_digits, axis=1))"
   ]
  },
  {
   "cell_type": "code",
   "execution_count": 22,
   "metadata": {},
   "outputs": [
    {
     "data": {
      "text/plain": [
       "array([[   0,   18,    1,    0,    0,    0,    0,    0,    0,    0],\n",
       "       [   0, 3565,   21,    4,    0,    0,    0,  104,    0,    0],\n",
       "       [   0, 2593,   10,    2,    0,    0,    0,   52,    0,    0],\n",
       "       [   0, 1581,    6,    0,    0,    0,    0,   38,    0,    0],\n",
       "       [   0, 1208,    5,    0,    0,    0,    0,   23,    0,    0],\n",
       "       [   0, 1030,    5,    0,    0,    0,    0,   17,    0,    0],\n",
       "       [   0,  841,    5,    1,    0,    0,    0,   10,    0,    0],\n",
       "       [   0,  706,    0,    0,    0,    0,    0,   41,    0,    0],\n",
       "       [   0,  615,    2,    0,    0,    0,    0,    8,    0,    0],\n",
       "       [   0,  547,    0,    0,    0,    0,    0,    9,    0,    0]])"
      ]
     },
     "execution_count": 22,
     "metadata": {},
     "output_type": "execute_result"
    }
   ],
   "source": [
    "confusion_matrix(y_true=y_test[1], y_pred=np.argmax(digit1, axis=1))"
   ]
  },
  {
   "cell_type": "code",
   "execution_count": 23,
   "metadata": {},
   "outputs": [
    {
     "data": {
      "text/plain": [
       "1    12704\n",
       "7      302\n",
       "2       55\n",
       "3        7\n",
       "dtype: int64"
      ]
     },
     "execution_count": 23,
     "metadata": {},
     "output_type": "execute_result"
    }
   ],
   "source": [
    "pd.Series(np.argmax(digit1, axis=1)).value_counts()"
   ]
  },
  {
   "cell_type": "code",
   "execution_count": 18,
   "metadata": {},
   "outputs": [
    {
     "data": {
      "text/plain": [
       "2    0.639425\n",
       "1    0.190006\n",
       "3    0.159244\n",
       "4    0.011172\n",
       "5    0.000153\n",
       "Name: 0, dtype: float64"
      ]
     },
     "execution_count": 18,
     "metadata": {},
     "output_type": "execute_result"
    }
   ],
   "source": [
    "y_test[0].value_counts(normalize=True)"
   ]
  },
  {
   "cell_type": "code",
   "execution_count": null,
   "metadata": {},
   "outputs": [],
   "source": []
  }
 ],
 "metadata": {
  "kernelspec": {
   "display_name": "Python 3",
   "language": "python",
   "name": "python3"
  },
  "language_info": {
   "codemirror_mode": {
    "name": "ipython",
    "version": 3
   },
   "file_extension": ".py",
   "mimetype": "text/x-python",
   "name": "python",
   "nbconvert_exporter": "python",
   "pygments_lexer": "ipython3",
   "version": "3.6.8"
  },
  "toc": {
   "base_numbering": 1,
   "nav_menu": {},
   "number_sections": true,
   "sideBar": true,
   "skip_h1_title": true,
   "title_cell": "Table of Contents",
   "title_sidebar": "Contents",
   "toc_cell": false,
   "toc_position": {
    "height": "calc(100% - 180px)",
    "left": "10px",
    "top": "150px",
    "width": "380px"
   },
   "toc_section_display": true,
   "toc_window_display": true
  }
 },
 "nbformat": 4,
 "nbformat_minor": 2
}
